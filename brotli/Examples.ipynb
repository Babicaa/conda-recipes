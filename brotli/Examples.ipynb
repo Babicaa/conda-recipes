{
 "cells": [
  {
   "cell_type": "markdown",
   "metadata": {},
   "source": [
    "# Simple Example"
   ]
  },
  {
   "cell_type": "code",
   "execution_count": 4,
   "metadata": {
    "collapsed": false
   },
   "outputs": [
    {
     "name": "stdout",
     "output_type": "stream",
     "text": [
      "b'\\x1b\\x1b\\x00\\x00\\xa4\\x83\\x86\\x98\\x9ed!\\x8c\\x90\\x12.{\\x91\\xf0\\xd0\\xdc\\xcf%\\x15'\n"
     ]
    }
   ],
   "source": [
    "import brotli\n",
    "test_string='THIS IS A REALLY COOL STRING'\n",
    "compressed_string = brotli.compress(test_string)\n",
    "print(compressed_string)"
   ]
  },
  {
   "cell_type": "code",
   "execution_count": 6,
   "metadata": {
    "collapsed": false
   },
   "outputs": [
    {
     "name": "stdout",
     "output_type": "stream",
     "text": [
      "b'THIS IS A REALLY COOL STRING'\n"
     ]
    }
   ],
   "source": [
    "decompressed_string = brotli.decompress(compressed_string)\n",
    "print(decompressed_string)"
   ]
  },
  {
   "cell_type": "markdown",
   "metadata": {},
   "source": [
    "# Insulin Images"
   ]
  },
  {
   "cell_type": "code",
   "execution_count": 1,
   "metadata": {
    "collapsed": true
   },
   "outputs": [],
   "source": [
    "import h5py\n",
    "f = h5py.File('/Users/ebner/32bit_1679x1475_insulin_ff.hdf5','r')\n",
    "dataset = f['entry']['data']['dataset'].value"
   ]
  },
  {
   "cell_type": "code",
   "execution_count": 3,
   "metadata": {
    "collapsed": false
   },
   "outputs": [
    {
     "name": "stdout",
     "output_type": "stream",
     "text": [
      "2045128\n"
     ]
    }
   ],
   "source": [
    "import brotli\n",
    "compressed_data = brotli.compress(dataset[0].tobytes())\n",
    "print(len(compressed_data))"
   ]
  },
  {
   "cell_type": "code",
   "execution_count": 5,
   "metadata": {
    "collapsed": false
   },
   "outputs": [
    {
     "name": "stdout",
     "output_type": "stream",
     "text": [
      "1904011\n"
     ]
    }
   ],
   "source": [
    "import bitshuffle\n",
    "compressed_data_bitshuffle = bitshuffle.compress_lz4(dataset[0])\n",
    "print(len(compressed_data_bitshuffle))"
   ]
  },
  {
   "cell_type": "code",
   "execution_count": null,
   "metadata": {
    "collapsed": true
   },
   "outputs": [],
   "source": []
  }
 ],
 "metadata": {
  "kernelspec": {
   "display_name": "Python 3",
   "language": "python",
   "name": "python3"
  },
  "language_info": {
   "codemirror_mode": {
    "name": "ipython",
    "version": 3
   },
   "file_extension": ".py",
   "mimetype": "text/x-python",
   "name": "python",
   "nbconvert_exporter": "python",
   "pygments_lexer": "ipython3",
   "version": "3.5.1"
  }
 },
 "nbformat": 4,
 "nbformat_minor": 0
}
